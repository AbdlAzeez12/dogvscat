{
  "cells": [
    {
      "cell_type": "code",
      "execution_count": null,
      "metadata": {
        "id": "zm8DMCrxlOM0"
      },
      "outputs": [],
      "source": [
        "# Importing libraries\n",
        "import numpy as np\n",
        "from keras.datasets import mnist\n",
        "from keras.utils import np_utils\n",
        "import keras\n",
        "from keras.models import Sequential\n",
        "from keras.layers import Dense, Dropout, Activation, Conv2D, MaxPooling2D, Flatten\n",
        "from keras.optimizers import Adam\n",
        "import zipfile\n",
        "import os\n",
        "from keras.preprocessing.image import ImageDataGenerator\n",
        "import keras\n",
        "from keras.regularizers import l2"
      ]
    },
    {
      "cell_type": "code",
      "execution_count": null,
      "metadata": {
        "id": "FKqKmgQUqLf5"
      },
      "outputs": [],
      "source": [
        "# loading data\n",
        "zip_ref=zipfile.ZipFile('/content/drive/MyDrive/dogs-vs-cats-vvsmall.zip', 'r')\n",
        "zip_ref.extractall('/tmp')\n",
        "zip_ref.close()\n"
      ]
    },
    {
      "cell_type": "code",
      "execution_count": null,
      "metadata": {
        "id": "uHlkMae-9TEG"
      },
      "outputs": [],
      "source": [
        "base_dir = '/tmp/dogs-vs-cats-vvsmall'"
      ]
    },
    {
      "cell_type": "code",
      "execution_count": null,
      "metadata": {
        "id": "k5VLyO5B9bWk"
      },
      "outputs": [],
      "source": [
        "train_dir = os.path.join(base_dir, 'train') "
      ]
    },
    {
      "cell_type": "code",
      "execution_count": null,
      "metadata": {
        "id": "gixeRriH9iea"
      },
      "outputs": [],
      "source": [
        "validation_dir = os.path.join(base_dir, 'validation')"
      ]
    },
    {
      "cell_type": "code",
      "execution_count": null,
      "metadata": {
        "id": "lwfyx2g29kt0"
      },
      "outputs": [],
      "source": [
        "train_cat_dir = os.path.join(train_dir, 'cats')"
      ]
    },
    {
      "cell_type": "code",
      "execution_count": null,
      "metadata": {
        "id": "-YLtoi_w9sYN"
      },
      "outputs": [],
      "source": [
        "train_dog_dir = os.path.join(train_dir, 'dogs')"
      ]
    },
    {
      "cell_type": "code",
      "execution_count": null,
      "metadata": {
        "id": "WJDdcnnX9ytw"
      },
      "outputs": [],
      "source": [
        "validation_cat_dir = os.path.join(validation_dir, 'cats')"
      ]
    },
    {
      "cell_type": "code",
      "execution_count": null,
      "metadata": {
        "id": "jjLwdQ7493Ip"
      },
      "outputs": [],
      "source": [
        "validation_dog_dir = os.path.join(validation_dir, 'dogs')"
      ]
    },
    {
      "cell_type": "code",
      "execution_count": null,
      "metadata": {
        "id": "wsYGLRol99pb"
      },
      "outputs": [],
      "source": [
        "#Defining the parameters of the model\n",
        "img_width, img_height = 150, 150\n",
        "input_shape = (img_width, img_height, 3)"
      ]
    },
    {
      "cell_type": "code",
      "execution_count": null,
      "metadata": {
        "id": "8VvnIhh_-FkM"
      },
      "outputs": [],
      "source": [
        "#Defining the model\n",
        "model = Sequential()\n",
        "model.add(Conv2D(32, (3, 3), input_shape=input_shape))\n",
        "model.add(Activation('relu'))\n",
        "model.add(MaxPooling2D(pool_size=(2, 2)))\n",
        "\n",
        "model.add(Conv2D(32, (3, 3)))\n",
        "model.add(Activation('relu'))\n",
        "model.add(MaxPooling2D(pool_size=(2, 2)))\n",
        "\n",
        "model.add(Conv2D(64, (3, 3)))\n",
        "model.add(Activation('relu'))\n",
        "model.add(MaxPooling2D(pool_size=(2, 2)))\n",
        "\n",
        "model.add(Flatten())\n",
        "model.add(Dense(64))\n",
        "model.add(Activation('relu'))\n",
        "model.add(Dropout(0.5))\n",
        "model.add(Dense(1))\n",
        "model.add(Activation('sigmoid'))"
      ]
    },
    {
      "cell_type": "code",
      "execution_count": null,
      "metadata": {
        "colab": {
          "base_uri": "https://localhost:8080/"
        },
        "id": "1ngg3Orq-JQd",
        "outputId": "732c70da-eca9-495c-d1f7-7e944e3436d6"
      },
      "outputs": [
        {
          "output_type": "stream",
          "name": "stderr",
          "text": [
            "/usr/local/lib/python3.9/dist-packages/keras/optimizers/optimizer_v2/adam.py:117: UserWarning: The `lr` argument is deprecated, use `learning_rate` instead.\n",
            "  super().__init__(name, **kwargs)\n"
          ]
        }
      ],
      "source": [
        "#Compiling the model\n",
        "model.compile(loss='binary_crossentropy',\n",
        "              optimizer=Adam(lr=0.0001),\n",
        "              metrics=['accuracy'])\n",
        "kernel_regularizer=keras.regularizers.l2"
      ]
    },
    {
      "cell_type": "code",
      "execution_count": null,
      "metadata": {
        "id": "cDFQ9V1n-O6b"
      },
      "outputs": [],
      "source": [
        "#Data Augmentation\n",
        "train_datagen = ImageDataGenerator(\n",
        "    rescale=1.0 / 255,\n",
        "    shear_range=0.2,\n",
        "    zoom_range=0.2,\n",
        "    horizontal_flip=True)\n",
        "\n",
        "test_datagen = ImageDataGenerator(rescale=1.0 / 255)"
      ]
    },
    {
      "cell_type": "code",
      "execution_count": null,
      "metadata": {
        "colab": {
          "base_uri": "https://localhost:8080/"
        },
        "id": "YkSvyFJ5-XOx",
        "outputId": "49db70ee-7ccf-497b-925e-6c9741633ea5"
      },
      "outputs": [
        {
          "output_type": "stream",
          "name": "stdout",
          "text": [
            "Found 6000 images belonging to 2 classes.\n",
            "Found 1800 images belonging to 2 classes.\n"
          ]
        }
      ],
      "source": [
        "#Preparing the training and validation data\n",
        "train_generator = train_datagen.flow_from_directory(\n",
        "    train_dir,\n",
        "    target_size=(img_width, img_height),\n",
        "    batch_size=32,\n",
        "    class_mode='binary')\n",
        "\n",
        "validation_generator = test_datagen.flow_from_directory(\n",
        "    validation_dir,\n",
        "    target_size=(img_width, img_height),\n",
        "    batch_size=32,\n",
        "    class_mode='binary')"
      ]
    },
    {
      "cell_type": "code",
      "execution_count": null,
      "metadata": {
        "colab": {
          "base_uri": "https://localhost:8080/"
        },
        "id": "rj5CXyLq-gqh",
        "outputId": "2657a81c-2c32-450f-818c-5d63e3c1ef96"
      },
      "outputs": [
        {
          "output_type": "stream",
          "name": "stderr",
          "text": [
            "<ipython-input-15-c22c52bb207b>:2: UserWarning: `Model.fit_generator` is deprecated and will be removed in a future version. Please use `Model.fit`, which supports generators.\n",
            "  model.fit_generator(\n"
          ]
        },
        {
          "output_type": "stream",
          "name": "stdout",
          "text": [
            "Epoch 1/60\n",
            "188/188 [==============================] - 67s 294ms/step - loss: 0.6835 - accuracy: 0.5482 - val_loss: 0.6563 - val_accuracy: 0.6028\n",
            "Epoch 2/60\n",
            "188/188 [==============================] - 58s 305ms/step - loss: 0.6490 - accuracy: 0.6223 - val_loss: 0.6118 - val_accuracy: 0.6750\n",
            "Epoch 3/60\n",
            "188/188 [==============================] - 57s 302ms/step - loss: 0.6206 - accuracy: 0.6598 - val_loss: 0.6322 - val_accuracy: 0.6194\n",
            "Epoch 4/60\n",
            "188/188 [==============================] - 57s 302ms/step - loss: 0.6037 - accuracy: 0.6788 - val_loss: 0.6025 - val_accuracy: 0.6617\n",
            "Epoch 5/60\n",
            "188/188 [==============================] - 57s 302ms/step - loss: 0.5889 - accuracy: 0.6955 - val_loss: 0.5654 - val_accuracy: 0.7189\n",
            "Epoch 6/60\n",
            "188/188 [==============================] - 59s 307ms/step - loss: 0.5818 - accuracy: 0.6980 - val_loss: 0.5412 - val_accuracy: 0.7117\n",
            "Epoch 7/60\n",
            "188/188 [==============================] - 60s 313ms/step - loss: 0.5720 - accuracy: 0.7070 - val_loss: 0.5327 - val_accuracy: 0.7383\n",
            "Epoch 8/60\n",
            "188/188 [==============================] - 56s 294ms/step - loss: 0.5579 - accuracy: 0.7177 - val_loss: 0.5191 - val_accuracy: 0.7478\n",
            "Epoch 9/60\n",
            "188/188 [==============================] - 59s 308ms/step - loss: 0.5475 - accuracy: 0.7215 - val_loss: 0.5165 - val_accuracy: 0.7467\n",
            "Epoch 10/60\n",
            "188/188 [==============================] - 60s 313ms/step - loss: 0.5429 - accuracy: 0.7313 - val_loss: 0.5113 - val_accuracy: 0.7456\n",
            "Epoch 11/60\n",
            "188/188 [==============================] - 58s 302ms/step - loss: 0.5356 - accuracy: 0.7312 - val_loss: 0.5055 - val_accuracy: 0.7533\n",
            "Epoch 12/60\n",
            "188/188 [==============================] - 57s 300ms/step - loss: 0.5296 - accuracy: 0.7407 - val_loss: 0.5052 - val_accuracy: 0.7517\n",
            "Epoch 13/60\n",
            "188/188 [==============================] - 57s 302ms/step - loss: 0.5265 - accuracy: 0.7425 - val_loss: 0.4885 - val_accuracy: 0.7694\n",
            "Epoch 14/60\n",
            "188/188 [==============================] - 59s 307ms/step - loss: 0.5192 - accuracy: 0.7453 - val_loss: 0.4901 - val_accuracy: 0.7728\n",
            "Epoch 15/60\n",
            "188/188 [==============================] - 55s 288ms/step - loss: 0.5143 - accuracy: 0.7488 - val_loss: 0.4970 - val_accuracy: 0.7506\n",
            "Epoch 16/60\n",
            "188/188 [==============================] - 55s 290ms/step - loss: 0.5085 - accuracy: 0.7552 - val_loss: 0.4908 - val_accuracy: 0.7644\n",
            "Epoch 17/60\n",
            "188/188 [==============================] - 57s 292ms/step - loss: 0.4972 - accuracy: 0.7603 - val_loss: 0.4737 - val_accuracy: 0.7722\n",
            "Epoch 18/60\n",
            "188/188 [==============================] - 58s 303ms/step - loss: 0.4984 - accuracy: 0.7607 - val_loss: 0.5032 - val_accuracy: 0.7539\n",
            "Epoch 19/60\n",
            "188/188 [==============================] - 58s 303ms/step - loss: 0.4982 - accuracy: 0.7592 - val_loss: 0.4760 - val_accuracy: 0.7717\n",
            "Epoch 20/60\n",
            "188/188 [==============================] - 59s 311ms/step - loss: 0.4886 - accuracy: 0.7713 - val_loss: 0.4605 - val_accuracy: 0.7922\n",
            "Epoch 21/60\n",
            "188/188 [==============================] - 60s 314ms/step - loss: 0.4927 - accuracy: 0.7683 - val_loss: 0.4669 - val_accuracy: 0.7739\n",
            "Epoch 22/60\n",
            "188/188 [==============================] - 60s 317ms/step - loss: 0.4790 - accuracy: 0.7718 - val_loss: 0.4601 - val_accuracy: 0.7856\n",
            "Epoch 23/60\n",
            "188/188 [==============================] - 58s 304ms/step - loss: 0.4708 - accuracy: 0.7780 - val_loss: 0.4626 - val_accuracy: 0.7822\n",
            "Epoch 24/60\n",
            "188/188 [==============================] - 57s 300ms/step - loss: 0.4712 - accuracy: 0.7802 - val_loss: 0.4669 - val_accuracy: 0.7811\n",
            "Epoch 25/60\n",
            "188/188 [==============================] - 58s 304ms/step - loss: 0.4703 - accuracy: 0.7800 - val_loss: 0.4549 - val_accuracy: 0.7917\n",
            "Epoch 26/60\n",
            "188/188 [==============================] - 57s 300ms/step - loss: 0.4603 - accuracy: 0.7815 - val_loss: 0.4467 - val_accuracy: 0.7833\n",
            "Epoch 27/60\n",
            "188/188 [==============================] - 57s 301ms/step - loss: 0.4586 - accuracy: 0.7883 - val_loss: 0.4483 - val_accuracy: 0.7839\n",
            "Epoch 28/60\n",
            "188/188 [==============================] - 58s 304ms/step - loss: 0.4466 - accuracy: 0.7972 - val_loss: 0.4454 - val_accuracy: 0.7933\n",
            "Epoch 29/60\n",
            "188/188 [==============================] - 57s 301ms/step - loss: 0.4440 - accuracy: 0.7950 - val_loss: 0.4493 - val_accuracy: 0.7856\n",
            "Epoch 30/60\n",
            "188/188 [==============================] - 58s 303ms/step - loss: 0.4493 - accuracy: 0.7913 - val_loss: 0.4439 - val_accuracy: 0.7933\n",
            "Epoch 31/60\n",
            "188/188 [==============================] - 57s 295ms/step - loss: 0.4377 - accuracy: 0.7995 - val_loss: 0.4440 - val_accuracy: 0.7894\n",
            "Epoch 32/60\n",
            "188/188 [==============================] - 58s 303ms/step - loss: 0.4330 - accuracy: 0.8028 - val_loss: 0.4341 - val_accuracy: 0.8022\n",
            "Epoch 33/60\n",
            "188/188 [==============================] - 57s 301ms/step - loss: 0.4328 - accuracy: 0.8035 - val_loss: 0.4355 - val_accuracy: 0.8000\n",
            "Epoch 34/60\n",
            "188/188 [==============================] - 59s 308ms/step - loss: 0.4317 - accuracy: 0.8073 - val_loss: 0.4348 - val_accuracy: 0.7944\n",
            "Epoch 35/60\n",
            "188/188 [==============================] - 55s 291ms/step - loss: 0.4334 - accuracy: 0.8033 - val_loss: 0.4368 - val_accuracy: 0.8044\n",
            "Epoch 36/60\n",
            "188/188 [==============================] - 58s 302ms/step - loss: 0.4217 - accuracy: 0.8100 - val_loss: 0.4336 - val_accuracy: 0.7994\n",
            "Epoch 37/60\n",
            "188/188 [==============================] - 57s 301ms/step - loss: 0.4180 - accuracy: 0.8170 - val_loss: 0.4356 - val_accuracy: 0.8044\n",
            "Epoch 38/60\n",
            "188/188 [==============================] - 57s 299ms/step - loss: 0.4207 - accuracy: 0.8123 - val_loss: 0.4424 - val_accuracy: 0.7978\n",
            "Epoch 39/60\n",
            "188/188 [==============================] - 58s 306ms/step - loss: 0.4162 - accuracy: 0.8182 - val_loss: 0.4274 - val_accuracy: 0.8006\n",
            "Epoch 40/60\n",
            "188/188 [==============================] - 58s 305ms/step - loss: 0.4083 - accuracy: 0.8148 - val_loss: 0.4321 - val_accuracy: 0.7917\n",
            "Epoch 41/60\n",
            "188/188 [==============================] - 60s 314ms/step - loss: 0.4111 - accuracy: 0.8138 - val_loss: 0.4281 - val_accuracy: 0.8000\n",
            "Epoch 42/60\n",
            "188/188 [==============================] - 63s 333ms/step - loss: 0.4036 - accuracy: 0.8230 - val_loss: 0.4268 - val_accuracy: 0.7989\n",
            "Epoch 43/60\n",
            "188/188 [==============================] - 58s 304ms/step - loss: 0.4061 - accuracy: 0.8193 - val_loss: 0.4258 - val_accuracy: 0.7967\n",
            "Epoch 44/60\n",
            "188/188 [==============================] - 58s 306ms/step - loss: 0.4027 - accuracy: 0.8225 - val_loss: 0.4382 - val_accuracy: 0.7989\n",
            "Epoch 45/60\n",
            "188/188 [==============================] - 60s 317ms/step - loss: 0.3909 - accuracy: 0.8252 - val_loss: 0.4508 - val_accuracy: 0.8011\n",
            "Epoch 46/60\n",
            "188/188 [==============================] - 59s 312ms/step - loss: 0.3943 - accuracy: 0.8270 - val_loss: 0.4199 - val_accuracy: 0.8089\n",
            "Epoch 47/60\n",
            "188/188 [==============================] - 59s 309ms/step - loss: 0.3922 - accuracy: 0.8255 - val_loss: 0.4236 - val_accuracy: 0.8122\n",
            "Epoch 48/60\n",
            "188/188 [==============================] - 58s 306ms/step - loss: 0.3880 - accuracy: 0.8283 - val_loss: 0.4507 - val_accuracy: 0.7978\n",
            "Epoch 49/60\n",
            "188/188 [==============================] - 57s 296ms/step - loss: 0.3917 - accuracy: 0.8315 - val_loss: 0.4053 - val_accuracy: 0.8139\n",
            "Epoch 50/60\n",
            "188/188 [==============================] - 60s 315ms/step - loss: 0.3897 - accuracy: 0.8275 - val_loss: 0.4140 - val_accuracy: 0.8100\n",
            "Epoch 51/60\n",
            "188/188 [==============================] - 60s 318ms/step - loss: 0.3827 - accuracy: 0.8322 - val_loss: 0.4402 - val_accuracy: 0.8022\n",
            "Epoch 52/60\n",
            "188/188 [==============================] - 59s 310ms/step - loss: 0.3854 - accuracy: 0.8312 - val_loss: 0.4156 - val_accuracy: 0.8106\n",
            "Epoch 53/60\n",
            "188/188 [==============================] - 61s 320ms/step - loss: 0.3739 - accuracy: 0.8365 - val_loss: 0.4162 - val_accuracy: 0.8117\n",
            "Epoch 54/60\n",
            "188/188 [==============================] - 58s 306ms/step - loss: 0.3758 - accuracy: 0.8353 - val_loss: 0.4369 - val_accuracy: 0.8000\n"
          ]
        },
        {
          "output_type": "execute_result",
          "data": {
            "text/plain": [
              "<keras.callbacks.History at 0x7f23ec0afd00>"
            ]
          },
          "metadata": {},
          "execution_count": 15
        }
      ],
      "source": [
        "#Training the model\n",
        "model.fit_generator(\n",
        "    train_generator,\n",
        "    \n",
        "    epochs=60,\n",
        "    validation_data=validation_generator,\n",
        "    callbacks=[keras.callbacks.EarlyStopping(monitor='val_loss', patience=5)],\n",
        "    \n",
        "    use_multiprocessing=True,\n",
        "    workers=4)\n"
      ]
    },
    {
      "cell_type": "code",
      "execution_count": null,
      "metadata": {
        "id": "9E1cDuHZA_h2",
        "colab": {
          "base_uri": "https://localhost:8080/"
        },
        "outputId": "f7a48f7d-8374-4ddb-f25e-ee06447299f4"
      },
      "outputs": [
        {
          "output_type": "stream",
          "name": "stdout",
          "text": [
            "Model: \"sequential\"\n",
            "_________________________________________________________________\n",
            " Layer (type)                Output Shape              Param #   \n",
            "=================================================================\n",
            " conv2d (Conv2D)             (None, 148, 148, 32)      896       \n",
            "                                                                 \n",
            " activation (Activation)     (None, 148, 148, 32)      0         \n",
            "                                                                 \n",
            " max_pooling2d (MaxPooling2D  (None, 74, 74, 32)       0         \n",
            " )                                                               \n",
            "                                                                 \n",
            " conv2d_1 (Conv2D)           (None, 72, 72, 32)        9248      \n",
            "                                                                 \n",
            " activation_1 (Activation)   (None, 72, 72, 32)        0         \n",
            "                                                                 \n",
            " max_pooling2d_1 (MaxPooling  (None, 36, 36, 32)       0         \n",
            " 2D)                                                             \n",
            "                                                                 \n",
            " conv2d_2 (Conv2D)           (None, 34, 34, 64)        18496     \n",
            "                                                                 \n",
            " activation_2 (Activation)   (None, 34, 34, 64)        0         \n",
            "                                                                 \n",
            " max_pooling2d_2 (MaxPooling  (None, 17, 17, 64)       0         \n",
            " 2D)                                                             \n",
            "                                                                 \n",
            " flatten (Flatten)           (None, 18496)             0         \n",
            "                                                                 \n",
            " dense (Dense)               (None, 64)                1183808   \n",
            "                                                                 \n",
            " activation_3 (Activation)   (None, 64)                0         \n",
            "                                                                 \n",
            " dropout (Dropout)           (None, 64)                0         \n",
            "                                                                 \n",
            " dense_1 (Dense)             (None, 1)                 65        \n",
            "                                                                 \n",
            " activation_4 (Activation)   (None, 1)                 0         \n",
            "                                                                 \n",
            "=================================================================\n",
            "Total params: 1,212,513\n",
            "Trainable params: 1,212,513\n",
            "Non-trainable params: 0\n",
            "_________________________________________________________________\n"
          ]
        }
      ],
      "source": [
        "model.summary()"
      ]
    },
    {
      "cell_type": "code",
      "execution_count": null,
      "metadata": {
        "id": "ts9IBmHr0hBd"
      },
      "outputs": [],
      "source": [
        "#Getting the training and testing accuracy\n",
        "train_acc = model.history.history['accuracy']\n",
        "test_acc = model.history.history['val_accuracy']\n",
        "train_loss= model.history.history['loss']\n",
        "test_loss= model.history.history['val_loss']\n"
      ]
    },
    {
      "cell_type": "code",
      "execution_count": null,
      "metadata": {
        "id": "j56-yGoh0HG5",
        "colab": {
          "base_uri": "https://localhost:8080/",
          "height": 295
        },
        "outputId": "695371d8-b666-49b7-b01b-7447b07d3aae"
      },
      "outputs": [
        {
          "output_type": "display_data",
          "data": {
            "text/plain": [
              "<Figure size 432x288 with 1 Axes>"
            ],
            "image/png": "[encoded data removed]"
          },
          "metadata": {
            "needs_background": "light"
          }
        }
      ],
      "source": [
        "#Importing the necessary libraries\n",
        "import matplotlib.pyplot as plt\n",
        "plt.plot(model.history.history['accuracy'])\n",
        "plt.plot(model.history.history['val_accuracy'])\n",
        "plt.title('model accuracy')\n",
        "plt.ylabel('accuracy')\n",
        "plt.xlabel('epoch')\n",
        "plt.legend(['train','test'], loc='upper left')\n",
        "plt.show()"
      ]
    },
    {
      "cell_type": "code",
      "execution_count": null,
      "metadata": {
        "id": "MC8FiwiHMcxy",
        "colab": {
          "base_uri": "https://localhost:8080/",
          "height": 295
        },
        "outputId": "208ed2db-7e3e-417d-daa1-cf3e0e584f5e"
      },
      "outputs": [
        {
          "output_type": "display_data",
          "data": {
            "text/plain": [
              "<Figure size 432x288 with 1 Axes>"
            ],
            "image/png": "[encoded data removed]"
          },
          "metadata": {
            "needs_background": "light"
          }
        }
      ],
      "source": [
        "# summarize the history for loss\n",
        "plt.plot(model.history.history['loss'])\n",
        "plt.plot(model.history.history['val_loss'])\n",
        "plt.title('model loss')\n",
        "plt.ylabel('loss')\n",
        "plt.xlabel('epoch')\n",
        "plt.legend(['train','test'], loc='upper left')\n",
        "plt.show()"
      ]
    }
  ],
  "metadata": {
    "accelerator": "GPU",
    "colab": {
      "provenance": []
    },
    "gpuClass": "standard",
    "kernelspec": {
      "display_name": "Python 3",
      "name": "python3"
    },
    "language_info": {
      "name": "python"
    }
  },
  "nbformat": 4,
  "nbformat_minor": 0
}